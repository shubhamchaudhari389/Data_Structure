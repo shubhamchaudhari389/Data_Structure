{
 "cells": [
  {
   "cell_type": "markdown",
   "metadata": {},
   "source": [
    "Write A pytho Program To Find mIddle Node Address Of The Given Address Of The Given Single Linked List"
   ]
  },
  {
   "cell_type": "code",
   "execution_count": 1,
   "metadata": {},
   "outputs": [
    {
     "name": "stdout",
     "output_type": "stream",
     "text": [
      "Middle node data: 3\n"
     ]
    }
   ],
   "source": [
    "class Node:\n",
    "    def __init__(self, data):\n",
    "        # Constructor for the Node class. Initializes a node with the given data.\n",
    "        self.data = data\n",
    "        self.next = None\n",
    "\n",
    "class LinkedList:\n",
    "    def __init__(self):\n",
    "        # Constructor for the LinkedList class. Initializes an empty linked list.\n",
    "        self.head = None\n",
    "\n",
    "    def add_node(self, data):\n",
    "        # Method to add a new node with the given data to the linked list.\n",
    "        new_node = Node(data)\n",
    "        new_node.next = self.head\n",
    "        self.head = new_node\n",
    "\n",
    "    def find_middle_node(self):\n",
    "        # Method to find the middle node of the linked list using the two-pointer approach.\n",
    "        slow_ptr = self.head\n",
    "        fast_ptr = self.head\n",
    "\n",
    "        # Move the fast pointer two steps at a time and the slow pointer one step at a time.\n",
    "        while fast_ptr is not None and fast_ptr.next is not None:\n",
    "            slow_ptr = slow_ptr.next\n",
    "            fast_ptr = fast_ptr.next.next\n",
    "\n",
    "        # Return the middle node (or middle of two middle nodes in case of an even-length list).\n",
    "        return slow_ptr\n",
    "\n",
    "# Example usage:\n",
    "linked_list = LinkedList()\n",
    "data_list = [1, 2, 3, 4, 5]\n",
    "\n",
    "# Adding nodes to the linked list.\n",
    "for data in data_list:\n",
    "    linked_list.add_node(data)\n",
    "\n",
    "# Finding the middle node of the linked list.\n",
    "middle_node = linked_list.find_middle_node()\n",
    "\n",
    "# Check if the middle node exists and print its data.\n",
    "if middle_node is not None:\n",
    "    print(\"Middle node data:\", middle_node.data)\n",
    "else:\n",
    "    print(\"The linked list is empty.\")\n"
   ]
  },
  {
   "cell_type": "code",
   "execution_count": 3,
   "metadata": {},
   "outputs": [
    {
     "name": "stdout",
     "output_type": "stream",
     "text": [
      "Address of the middle node: 2393208587936\n"
     ]
    }
   ],
   "source": [
    "class Node:\n",
    "    def __init__(self, data):\n",
    "        self.data = data\n",
    "        self.next = None\n",
    "\n",
    "class LinkedList:\n",
    "    def __init__(self):\n",
    "        self.head = None\n",
    "\n",
    "    def add_node(self, data):\n",
    "        new_node = Node(data)\n",
    "        new_node.next = self.head\n",
    "        self.head = new_node\n",
    "\n",
    "    def find_middle_node_address(self):\n",
    "        slow_ptr = self.head\n",
    "        fast_ptr = self.head\n",
    "\n",
    "        while fast_ptr is not None and fast_ptr.next is not None:\n",
    "            slow_ptr = slow_ptr.next\n",
    "            fast_ptr = fast_ptr.next.next\n",
    "\n",
    "        return id(slow_ptr)\n",
    "\n",
    "# Example usage:\n",
    "linked_list = LinkedList()\n",
    "data_list = [1, 2, 3, 4, 5]\n",
    "\n",
    "for data in data_list:\n",
    "    linked_list.add_node(data)\n",
    "\n",
    "middle_node_address = linked_list.find_middle_node_address()\n",
    "\n",
    "if middle_node_address is not None:\n",
    "    print(\"Address of the middle node:\", middle_node_address)\n",
    "else:\n",
    "    print(\"The linked list is empty.\")\n"
   ]
  },
  {
   "cell_type": "markdown",
   "metadata": {},
   "source": [
    "Write A Program To Reverse the Given Single Linked List \n"
   ]
  },
  {
   "cell_type": "code",
   "execution_count": 5,
   "metadata": {},
   "outputs": [
    {
     "name": "stdout",
     "output_type": "stream",
     "text": [
      "Original linked list:\n",
      "5 -> 4 -> 3 -> 2 -> 1 -> None\n",
      "\n",
      "Reversed linked list:\n",
      "1 -> 2 -> 3 -> 4 -> 5 -> None\n"
     ]
    }
   ],
   "source": [
    "# Define a Node class to represent elements in the linked list.\n",
    "class Node:\n",
    "    def __init__(self, data):\n",
    "        self.data = data  # Data stored in the node.\n",
    "        self.next = None   # Reference to the next node in the list.\n",
    "\n",
    "# Define a LinkedList class to represent the linked list structure.\n",
    "class LinkedList:\n",
    "    def __init__(self):\n",
    "        self.head = None  # Initialize an empty linked list with no head.\n",
    "\n",
    "    # Method to add a new node to the linked list.\n",
    "    def add_node(self, data):\n",
    "        new_node = Node(data)  # Create a new node with the given data.\n",
    "        new_node.next = self.head  # Set the new node's next pointer to the current head.\n",
    "        self.head = new_node  # Update the head to the new node.\n",
    "\n",
    "    # Method to reverse the linked list in place.\n",
    "    def reverse_linked_list(self):\n",
    "        prev = None          # Initialize a variable to keep track of the previous node.\n",
    "        current = self.head  # Start from the head of the list.\n",
    "\n",
    "        # Iterate through the list.\n",
    "        while current is not None:\n",
    "            next_node = current.next  # Save the reference to the next node.\n",
    "            current.next = prev        # Reverse the link by pointing the current node's next to the previous node.\n",
    "            prev = current             # Move the previous node pointer one step forward.\n",
    "            current = next_node        # Move the current node pointer one step forward.\n",
    "\n",
    "        self.head = prev  # Update the head to the last node, effectively reversing the list.\n",
    "\n",
    "    # Method to display the linked list elements.\n",
    "    def display(self):\n",
    "        current = self.head  # Start from the head of the list.\n",
    "        while current is not None:\n",
    "            print(current.data, end=\" -> \")  # Print the data of the current node.\n",
    "            current = current.next            # Move to the next node.\n",
    "\n",
    "        print(\"None\")  # Print \"None\" to indicate the end of the list.\n",
    "\n",
    "# Example usage:\n",
    "linked_list = LinkedList()  # Create an instance of the LinkedList class.\n",
    "data_list = [1, 2, 3, 4, 5]  # List of data to add to the linked list.\n",
    "\n",
    "# Adding nodes to the linked list.\n",
    "for data in data_list:\n",
    "    linked_list.add_node(data)\n",
    "\n",
    "print(\"Original linked list:\")\n",
    "linked_list.display()  # Display the original linked list.\n",
    "\n",
    "# Reversing the linked list.\n",
    "linked_list.reverse_linked_list()\n",
    "\n",
    "print(\"\\nReversed linked list:\")\n",
    "linked_list.display()  # Display the reversed linked list.\n"
   ]
  },
  {
   "cell_type": "code",
   "execution_count": null,
   "metadata": {},
   "outputs": [],
   "source": []
  }
 ],
 "metadata": {
  "kernelspec": {
   "display_name": "base",
   "language": "python",
   "name": "python3"
  },
  "language_info": {
   "codemirror_mode": {
    "name": "ipython",
    "version": 3
   },
   "file_extension": ".py",
   "mimetype": "text/x-python",
   "name": "python",
   "nbconvert_exporter": "python",
   "pygments_lexer": "ipython3",
   "version": "3.10.9"
  }
 },
 "nbformat": 4,
 "nbformat_minor": 2
}
