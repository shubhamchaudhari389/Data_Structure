{
 "cells": [
  {
   "cell_type": "markdown",
   "metadata": {},
   "source": [
    "## Que Python Program To Find Intersection Point Of Two Single Linked List S1 And S2 "
   ]
  },
  {
   "cell_type": "code",
   "execution_count": 1,
   "metadata": {},
   "outputs": [
    {
     "name": "stdout",
     "output_type": "stream",
     "text": [
      "The intersecting node value is: 4\n"
     ]
    }
   ],
   "source": [
    "# Definition of a ListNode class, representing a node in a singly linked list\n",
    "class ListNode:\n",
    "    def __init__(self, value=0, next=None):\n",
    "        self.value = value\n",
    "        self.next = next\n",
    "\n",
    "# Function to find the intersecting node of two linked lists\n",
    "def get_intersection_node(head1, head2):\n",
    "    # Helper function to get the length of a linked list\n",
    "    def get_length(node):\n",
    "        length = 0\n",
    "        while node:\n",
    "            length += 1\n",
    "            node = node.next\n",
    "        return length\n",
    "\n",
    "    # Get the lengths of both linked lists\n",
    "    len1, len2 = get_length(head1), get_length(head2)\n",
    "\n",
    "    # Move the longer list's head to the same starting position\n",
    "    while len1 > len2:\n",
    "        head1 = head1.next\n",
    "        len1 -= 1\n",
    "\n",
    "    while len2 > len1:\n",
    "        head2 = head2.next\n",
    "        len2 -= 1\n",
    "\n",
    "    # Traverse both lists until the intersecting node is found\n",
    "    while head1 != head2:\n",
    "        head1 = head1.next\n",
    "        head2 = head2.next\n",
    "\n",
    "    # Return either head1 or head2, as they are now pointing to the intersecting node\n",
    "    return head1\n",
    "\n",
    "# Example usage:\n",
    "\n",
    "# Creating nodes for the first linked list: 1 -> 2 -> 3 -> 4 -> 5\n",
    "head1 = ListNode(1)\n",
    "head1.next = ListNode(2)\n",
    "head1.next.next = ListNode(3)\n",
    "head1.next.next.next = ListNode(4)\n",
    "head1.next.next.next.next = ListNode(5)\n",
    "\n",
    "# Creating nodes for the second linked list: 8 -> 9 -> 4 -> 5\n",
    "head2 = ListNode(8)\n",
    "head2.next = ListNode(9)\n",
    "head2.next.next = head1.next.next.next  # Connecting the second list to the first list\n",
    "\n",
    "# Finding the intersecting node\n",
    "intersecting_node = get_intersection_node(head1, head2)\n",
    "\n",
    "# Check if there is an intersecting node\n",
    "if intersecting_node:\n",
    "    print(f\"The intersecting node value is: {intersecting_node.value}\")\n",
    "else:\n",
    "    print(\"The linked lists do not intersect.\")\n"
   ]
  },
  {
   "cell_type": "markdown",
   "metadata": {},
   "source": [
    "### Que Write A Python To Do Polynominal Addition Using Single Linked List"
   ]
  },
  {
   "cell_type": "code",
   "execution_count": 3,
   "metadata": {},
   "outputs": [
    {
     "name": "stdout",
     "output_type": "stream",
     "text": [
      "Polynomial 1: 3x^2 + 2x^1 + 1x^0\n",
      "Polynomial 2: 5x^2 + 4x^1 + 2x^0\n",
      "Result: 8x^2 + 6x^1 + 3x^0\n"
     ]
    }
   ],
   "source": [
    "class Node:\n",
    "    def __init__(self, coefficient, exponent):\n",
    "        self.coefficient = coefficient\n",
    "        self.exponent = exponent\n",
    "        self.next = None\n",
    "\n",
    "def add_polynomials(poly1, poly2):\n",
    "    result_head = Node(0, 0)\n",
    "    current_result = result_head\n",
    "\n",
    "    while poly1 is not None or poly2 is not None:\n",
    "        # Get the terms from each polynomial (if available)\n",
    "        term1 = poly1 if poly1 is None else poly1.coefficient, poly1.exponent\n",
    "        term2 = poly2 if poly2 is None else poly2.coefficient, poly2.exponent\n",
    "\n",
    "        # Add the coefficients if exponents match\n",
    "        if term1[1] == term2[1]:\n",
    "            result_coefficient = term1[0] + term2[0]\n",
    "            result_exponent = term1[1]\n",
    "            poly1 = poly1.next if poly1 is not None else None\n",
    "            poly2 = poly2.next if poly2 is not None else None\n",
    "        elif term1[1] > term2[1]:\n",
    "            result_coefficient = term1[0]\n",
    "            result_exponent = term1[1]\n",
    "            poly1 = poly1.next if poly1 is not None else None\n",
    "        else:\n",
    "            result_coefficient = term2[0]\n",
    "            result_exponent = term2[1]\n",
    "            poly2 = poly2.next if poly2 is not None else None\n",
    "\n",
    "        # Create a new node for the result\n",
    "        current_result.next = Node(result_coefficient, result_exponent)\n",
    "        current_result = current_result.next\n",
    "\n",
    "    return result_head.next\n",
    "\n",
    "def display_polynomial(poly):\n",
    "    terms = []\n",
    "    while poly is not None:\n",
    "        terms.append(f\"{poly.coefficient}x^{poly.exponent}\")\n",
    "        poly = poly.next\n",
    "    return \" + \".join(terms)\n",
    "\n",
    "# Example usage:\n",
    "\n",
    "# Creating nodes for the first polynomial: 3x^2 + 2x + 1\n",
    "poly1 = Node(3, 2)\n",
    "poly1.next = Node(2, 1)\n",
    "poly1.next.next = Node(1, 0)\n",
    "\n",
    "# Creating nodes for the second polynomial: 5x^2 + 4x + 2\n",
    "poly2 = Node(5, 2)\n",
    "poly2.next = Node(4, 1)\n",
    "poly2.next.next = Node(2, 0)\n",
    "\n",
    "# Performing polynomial addition\n",
    "result = add_polynomials(poly1, poly2)\n",
    "\n",
    "# Displaying the result\n",
    "print(\"Polynomial 1:\", display_polynomial(poly1))\n",
    "print(\"Polynomial 2:\", display_polynomial(poly2))\n",
    "print(\"Result:\", display_polynomial(result))\n"
   ]
  },
  {
   "cell_type": "code",
   "execution_count": null,
   "metadata": {},
   "outputs": [],
   "source": []
  }
 ],
 "metadata": {
  "kernelspec": {
   "display_name": "base",
   "language": "python",
   "name": "python3"
  },
  "language_info": {
   "codemirror_mode": {
    "name": "ipython",
    "version": 3
   },
   "file_extension": ".py",
   "mimetype": "text/x-python",
   "name": "python",
   "nbconvert_exporter": "python",
   "pygments_lexer": "ipython3",
   "version": "3.10.9"
  }
 },
 "nbformat": 4,
 "nbformat_minor": 2
}
